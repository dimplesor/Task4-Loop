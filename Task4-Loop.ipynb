{
 "cells": [
  {
   "cell_type": "markdown",
   "id": "967d6faa-fdf4-4a8a-9dcd-e46e232bd320",
   "metadata": {},
   "source": [
    "# Loop- while, map, for & filter for list of Dictionary"
   ]
  },
  {
   "cell_type": "code",
   "execution_count": 4,
   "id": "49cba088-3cfd-4238-a4c7-7986d264fd82",
   "metadata": {},
   "outputs": [
    {
     "name": "stdout",
     "output_type": "stream",
     "text": [
      "dict_keys(['First Name', 'age'])\n",
      "dict_keys(['job', 'city'])\n",
      "/////////////////\n",
      "l1 = [1, 2, 3, 4, 5, 6, 7, 8, 9]\n",
      "newMapObj = [1, 4, 9, 16, 25, 36, 49, 64, 81]\n",
      "/////////////////\n",
      "[3]\n",
      "/////////////////\n",
      "30\n"
     ]
    },
    {
     "ename": "KeyError",
     "evalue": "'age'",
     "output_type": "error",
     "traceback": [
      "\u001b[1;31m---------------------------------------------------------------------------\u001b[0m",
      "\u001b[1;31mKeyError\u001b[0m                                  Traceback (most recent call last)",
      "Cell \u001b[1;32mIn[4], line 34\u001b[0m\n\u001b[0;32m     32\u001b[0m l2 \u001b[38;5;241m=\u001b[39m [{\u001b[38;5;124m\"\u001b[39m\u001b[38;5;124mName\u001b[39m\u001b[38;5;124m\"\u001b[39m: \u001b[38;5;124m\"\u001b[39m\u001b[38;5;124mPooja\u001b[39m\u001b[38;5;124m\"\u001b[39m, \u001b[38;5;124m\"\u001b[39m\u001b[38;5;124mage\u001b[39m\u001b[38;5;124m\"\u001b[39m: \u001b[38;5;241m30\u001b[39m}, {\u001b[38;5;124m\"\u001b[39m\u001b[38;5;124mjob\u001b[39m\u001b[38;5;124m\"\u001b[39m: \u001b[38;5;124m\"\u001b[39m\u001b[38;5;124mDeveloper\u001b[39m\u001b[38;5;124m\"\u001b[39m, \u001b[38;5;124m\"\u001b[39m\u001b[38;5;124mcity\u001b[39m\u001b[38;5;124m\"\u001b[39m: \u001b[38;5;124m\"\u001b[39m\u001b[38;5;124mNagpur\u001b[39m\u001b[38;5;124m\"\u001b[39m}, {\u001b[38;5;124m\"\u001b[39m\u001b[38;5;124mName\u001b[39m\u001b[38;5;124m\"\u001b[39m: \u001b[38;5;124m\"\u001b[39m\u001b[38;5;124mBala\u001b[39m\u001b[38;5;124m\"\u001b[39m, \u001b[38;5;124m\"\u001b[39m\u001b[38;5;124mage\u001b[39m\u001b[38;5;124m\"\u001b[39m: \u001b[38;5;241m25\u001b[39m}]\n\u001b[0;32m     33\u001b[0m \u001b[38;5;28;01mfor\u001b[39;00m person \u001b[38;5;129;01min\u001b[39;00m l2:\n\u001b[1;32m---> 34\u001b[0m     \u001b[38;5;28mprint\u001b[39m(person[\u001b[38;5;124m\"\u001b[39m\u001b[38;5;124mage\u001b[39m\u001b[38;5;124m\"\u001b[39m])\n",
      "\u001b[1;31mKeyError\u001b[0m: 'age'"
     ]
    }
   ],
   "source": [
    "\n",
    "l1= [{\"First Name\": \"Pooja\", \"age\": 30}, {\"job\": \"Analyst\", \"city\": \"Nagpur\"}, {\"key\": \"stop\"}]\n",
    "i = 0\n",
    "while i < len(l1) and \"key\" not in l1[i]:\n",
    "  print(l1[i].keys())  \n",
    "  i += 1\n",
    "\n",
    "print('/////////////////')\n",
    "\n",
    "l1 = list(range(1,10,1))\n",
    "print(f'l1 = {l1}')\n",
    "\n",
    "square = lambda x:x*x\n",
    "\n",
    "newMapObj = list(map(square, l1))\n",
    "\n",
    "print(f'newMapObj = {newMapObj}')\n",
    "\n",
    "\n",
    "print('/////////////////')\n",
    "\n",
    "\n",
    "numbers = [1, 2, 3, 4, 5]\n",
    "odd_numbers = filter(lambda x: x % 3 == 0, numbers)\n",
    "\n",
    "print(list(odd_numbers))\n",
    "\n",
    "print('/////////////////')\n",
    "\n",
    "l2 = [{\"Name\": \"Pooja\", \"age\": 30}, {\"job\": \"Developer\", \"city\": \"Nagpur\"}, {\"Name\": \"Bala\", \"age\": 25}]\n",
    "for person in l2:\n",
    "    print(person[\"age\"])"
   ]
  }
 ],
 "metadata": {
  "kernelspec": {
   "display_name": "Python 3 (ipykernel)",
   "language": "python",
   "name": "python3"
  },
  "language_info": {
   "codemirror_mode": {
    "name": "ipython",
    "version": 3
   },
   "file_extension": ".py",
   "mimetype": "text/x-python",
   "name": "python",
   "nbconvert_exporter": "python",
   "pygments_lexer": "ipython3",
   "version": "3.11.7"
  }
 },
 "nbformat": 4,
 "nbformat_minor": 5
}
